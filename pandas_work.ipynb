{
 "cells": [
  {
   "cell_type": "code",
   "execution_count": 200,
   "id": "523284b5",
   "metadata": {},
   "outputs": [],
   "source": [
    "import pandas as pd\n",
    "from openpyxl import Workbook\n",
    "import warnings\n",
    "import re\n",
    "# from datetime import datetime"
   ]
  },
  {
   "cell_type": "code",
   "execution_count": 185,
   "id": "19039fec",
   "metadata": {},
   "outputs": [],
   "source": [
    "df = pd.read_csv(\"orders.csv\")"
   ]
  },
  {
   "cell_type": "code",
   "execution_count": 186,
   "id": "0251e3bb",
   "metadata": {},
   "outputs": [],
   "source": [
    "# df.head(5)"
   ]
  },
  {
   "cell_type": "code",
   "execution_count": 187,
   "id": "611d3b23",
   "metadata": {},
   "outputs": [],
   "source": [
    "workbook = Workbook()"
   ]
  },
  {
   "cell_type": "code",
   "execution_count": 191,
   "id": "fd604d96",
   "metadata": {},
   "outputs": [],
   "source": [
    "with warnings.catch_warnings():\n",
    "    warnings.simplefilter(action='ignore', category=FutureWarning)\n",
    "    writer = pd.ExcelWriter('order.xlsx', engine='openpyxl')\n",
    "    writer.book = workbook\n",
    "    default_sheet = workbook.active\n",
    "    workbook.remove(default_sheet)\n",
    "    sheet_1 = df[['Order Number','First Name (Shipping)', 'Last Name (Shipping)', 'Address 1&2 (Shipping)', 'City (Shipping)', 'Postcode (Shipping)', 'Country Code (Shipping)', 'Phone (Billing)', 'Customer User Email', 'Customer Note']]\n",
    "    sheet_2 = df[['Order Number', 'Order Date','Product Name', 'SKU', 'Item #', 'Product Variation', 'Item Name', 'Quantity','Order Subtotal Amount', 'Order Refund Amount', 'Order Total Amount', 'Order Total Tax Amount']]\n",
    "    sheet_3 = df[['Order Number','Payment Method Title', 'Cart Discount Amount', 'Item Cost', 'Coupon Code', 'Discount Amount', 'Discount Amount Tax']]\n",
    "    date_pattern = r'Date: (.*?) \\|'\n",
    "    time_pattern = r'Time: (.*?) \\|'\n",
    "    size_pattern = r'Size: (.*?) \\|'\n",
    "    shape_pattern = r'Shape: (.*?) \\|'\n",
    "    tree_height = r'Tree Height: (.*?)$'\n",
    "    sheet_2 = sheet_2.copy()\n",
    "    sheet_2['Date and Time'] = sheet_2['Product Variation'].str.extract(date_pattern) + ' ' + sheet_2['Product Variation'].str.extract(time_pattern)\n",
    "    sheet_2['Size'] = sheet_2['Product Variation'].str.extract(size_pattern)\n",
    "    sheet_2['Shape'] = sheet_2['Product Variation'].str.extract(shape_pattern)\n",
    "    sheet_2['Tree Size'] = sheet_2['Product Variation'].str.extract(tree_height)\n",
    "    sheet_1.to_excel(writer, sheet_name = \"Person_Info\", index = False)\n",
    "    sheet_2.to_excel(writer, sheet_name = \"Order_Info\", index = False)\n",
    "    sheet_3.to_excel(writer, sheet_name = \"Payment_info\", index = False)\n",
    "    writer.save()"
   ]
  },
  {
   "cell_type": "code",
   "execution_count": 189,
   "id": "0a8a6dfe",
   "metadata": {},
   "outputs": [],
   "source": [
    "# # print(list(df.columns.values)) \n",
    "# sheet_2 = df[['Product Variation']].copy()\n",
    "# sheet_2"
   ]
  },
  {
   "cell_type": "code",
   "execution_count": 199,
   "id": "3211461d",
   "metadata": {},
   "outputs": [],
   "source": [
    "# df\n"
   ]
  },
  {
   "cell_type": "code",
   "execution_count": null,
   "id": "0baf3ab5",
   "metadata": {},
   "outputs": [],
   "source": []
  },
  {
   "cell_type": "code",
   "execution_count": null,
   "id": "c53760eb",
   "metadata": {},
   "outputs": [],
   "source": []
  }
 ],
 "metadata": {
  "kernelspec": {
   "display_name": "Python 3 (ipykernel)",
   "language": "python",
   "name": "python3"
  },
  "language_info": {
   "codemirror_mode": {
    "name": "ipython",
    "version": 3
   },
   "file_extension": ".py",
   "mimetype": "text/x-python",
   "name": "python",
   "nbconvert_exporter": "python",
   "pygments_lexer": "ipython3",
   "version": "3.11.4"
  }
 },
 "nbformat": 4,
 "nbformat_minor": 5
}
