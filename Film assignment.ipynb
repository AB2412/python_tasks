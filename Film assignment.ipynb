{
 "cells": [
  {
   "cell_type": "code",
   "execution_count": 182,
   "id": "f95bfefc",
   "metadata": {},
   "outputs": [],
   "source": [
    "import pandas as pd\n",
    "from openpyxl import Workbook\n",
    "import warnings\n",
    "import datetime"
   ]
  },
  {
   "cell_type": "code",
   "execution_count": 183,
   "id": "788e6b78",
   "metadata": {},
   "outputs": [],
   "source": [
    "movies_df = pd.read_csv(\"archive (4)/movies.csv\")\n",
    "ratings_df = pd.read_csv(\"archive (4)/ratings.csv\")"
   ]
  },
  {
   "cell_type": "code",
   "execution_count": 184,
   "id": "50357677",
   "metadata": {},
   "outputs": [],
   "source": [
    "# movies_df"
   ]
  },
  {
   "cell_type": "code",
   "execution_count": 185,
   "id": "34d2e089",
   "metadata": {},
   "outputs": [],
   "source": [
    "# new_df = pd.merge(movies_df, ratings_df)\n",
    "workbook = Workbook()\n"
   ]
  },
  {
   "cell_type": "code",
   "execution_count": 186,
   "id": "5f064fac",
   "metadata": {},
   "outputs": [],
   "source": [
    "writer = pd.ExcelWriter('archive (4)/New_sheet_for_Movies.xlsx', engine='openpyxl')"
   ]
  },
  {
   "cell_type": "code",
   "execution_count": 187,
   "id": "53f360b1",
   "metadata": {
    "scrolled": false
   },
   "outputs": [],
   "source": [
    "with warnings.catch_warnings():\n",
    "    warnings.simplefilter(action='ignore', category=FutureWarning)\n",
    "    writer.book = workbook\n",
    "    default_sheet = workbook.active\n",
    "    workbook.remove(default_sheet)\n",
    "    sheet_1 = movies_df\n",
    "    sheet_2 = ratings_df\n",
    "    year_pattern = r'\\((\\d{4})\\)'\n",
    "    movies_df[\"year\"] = movies_df['title'].str.extract(year_pattern)[0]\n",
    "    merged_df = movies_df.merge(ratings_df, on='movieId')\n",
    "    #avg rating by year\n",
    "    year_data_df = merged_df.groupby('year').agg({'movieId': 'count', 'rating': 'mean'}).reset_index().round(2)\n",
    "    year_data_df.rename(columns={'movieId': 'Number of Movies', 'rating': 'Average Rating'}, inplace=True)\n",
    "    year_data_df.to_excel(writer, sheet_name='Movies by Year', index=False)\n",
    "    \n",
    "    #max rating by year\n",
    "    max_rating = merged_df.groupby('year')['rating'].max().reset_index().round(2)\n",
    "    year_data_df['Max_rating'] = max_rating['rating']\n",
    "    year_data_df.to_excel(writer, sheet_name='Movies by Year', index=False)\n",
    "    #Min rating by year\n",
    "    min_rating = merged_df.groupby('year')['rating'].min().reset_index().round(2)\n",
    "    year_data_df['Min_rating'] = min_rating['rating']\n",
    "    year_data_df.to_excel(writer, sheet_name='Movies by Year', index=False)\n",
    "\n",
    "    \n",
    "    genres_split = movies_df['genres'].str.get_dummies('|')\n",
    "\n",
    "    movies_split = pd.concat([movies_df[['movieId', 'title']], genres_split], axis=1)\n",
    "    movies_melted = pd.melt(movies_split, id_vars=['movieId', 'title'], value_vars=list(genres_split.columns)[2:], var_name='genre')\n",
    "    merged_df = movies_melted.merge(ratings_df, on='movieId')\n",
    "    genre_avg_ratings = merged_df.groupby('genre')['rating'].mean().reset_index().round(2)\n",
    "    min_ratting = merged_df.groupby('genre')['rating'].min().reset_index().round(2)\n",
    "    max_ratting = merged_df.groupby('genre')['rating'].max().reset_index().round(2)\n",
    "    genre_avg_ratings[\"Min_Ratings\"] = min_ratting['rating']\n",
    "    genre_avg_ratings[\"Max_Ratings\"] = max_ratting['rating']\n",
    "    genre_avg_ratings.to_excel(writer, sheet_name='Movies by Genres', index=False)\n",
    "\n",
    "    def convert_timstamp(timestamp):\n",
    "        return  datetime.datetime.fromtimestamp(timestamp)\n",
    "    sheet_2['formatted_date'] = sheet_2[\"timestamp\"].apply(lambda x: convert_timstamp(x))\n",
    "\n",
    "    sheet_1.to_excel(writer, sheet_name=\"Movies_Sheet\", index = False)\n",
    "    sheet_2.to_excel(writer, sheet_name=\"Ratings_Sheet\", index = False)\n",
    "    year_data_df\n",
    "    writer.save()"
   ]
  },
  {
   "cell_type": "code",
   "execution_count": 65,
   "id": "313e96ce",
   "metadata": {},
   "outputs": [],
   "source": [
    "# min_rating = merged_df.groupby('year')['rating'].max().reset_index()\n",
    "# # print(min_rating)\n",
    "# min_rating.rename(columns={'rating':'Max_rating'}, inplace=True)\n",
    "# merged_df = merged_df.merge(min_rating, on='year')\n",
    "\n",
    "# merged_df['Min_rating'] = min_rating['rating']\n",
    "# min_rating = merged_df.groupby('year')['rating'].max().reset_index()\n",
    "# min_rating\n",
    "# year_data_df['Max_rating'] = min_rating['rating']\n",
    "# year_data_df"
   ]
  },
  {
   "cell_type": "code",
   "execution_count": 32,
   "id": "81c9fdd4",
   "metadata": {},
   "outputs": [],
   "source": [
    "# merged_df"
   ]
  },
  {
   "cell_type": "code",
   "execution_count": 88,
   "id": "525c9891",
   "metadata": {},
   "outputs": [],
   "source": [
    "# movies_df = pd.read_csv(\"archive (4)/movies.csv\")\n"
   ]
  },
  {
   "cell_type": "code",
   "execution_count": 87,
   "id": "23a3598b",
   "metadata": {},
   "outputs": [],
   "source": [
    "#  merged_df = movies_df.merge(ratings_df, on='movieId')"
   ]
  },
  {
   "cell_type": "code",
   "execution_count": 86,
   "id": "484f0416",
   "metadata": {},
   "outputs": [],
   "source": [
    "# genres_split = movies_df['genres'].str.get_dummies('|')\n",
    "\n",
    "# movies_split = pd.concat([movies_df[['movieId', 'title']], genres_split], axis=1)\n",
    "# movies_melted = pd.melt(movies_split, id_vars=['movieId', 'title'], value_vars=list(genres_split.columns)[2:], var_name='genre')\n",
    "# merged_df = movies_melted.merge(ratings_df, on='movieId')\n",
    "# genre_avg_ratings = merged_df.groupby('genre')['rating'].mean().reset_index()\n",
    "# genres_split\n",
    "# movies_melted\n",
    "# genre_avg_ratings"
   ]
  },
  {
   "cell_type": "code",
   "execution_count": 119,
   "id": "fb07f2c4",
   "metadata": {},
   "outputs": [],
   "source": [
    "#  sheet_2 = ratings_df\n",
    "# def convert_timestamp(timestamp):\n",
    "#     dt_object = datetime.datetime.fromtimestamp(timestamp)\n",
    "#     formatted_date = dt_object.strftime('%Y-%m-%d %H:%M:%S')\n",
    "#     return formatted_date\n",
    "# sheet_2['formatted_date'] = sheet_2[\"timestamp\"].apply(convert_timestamp)\n",
    "# sheet_2"
   ]
  },
  {
   "cell_type": "code",
   "execution_count": null,
   "id": "21db8410",
   "metadata": {},
   "outputs": [
    {
     "data": {
      "text/html": [
       "<div>\n",
       "<style scoped>\n",
       "    .dataframe tbody tr th:only-of-type {\n",
       "        vertical-align: middle;\n",
       "    }\n",
       "\n",
       "    .dataframe tbody tr th {\n",
       "        vertical-align: top;\n",
       "    }\n",
       "\n",
       "    .dataframe thead th {\n",
       "        text-align: right;\n",
       "    }\n",
       "</style>\n",
       "<table border=\"1\" class=\"dataframe\">\n",
       "  <thead>\n",
       "    <tr style=\"text-align: right;\">\n",
       "      <th></th>\n",
       "      <th>genre</th>\n",
       "      <th>rating</th>\n",
       "    </tr>\n",
       "  </thead>\n",
       "  <tbody>\n",
       "    <tr>\n",
       "      <th>0</th>\n",
       "      <td>Adventure</td>\n",
       "      <td>3.501557</td>\n",
       "    </tr>\n",
       "    <tr>\n",
       "      <th>1</th>\n",
       "      <td>Animation</td>\n",
       "      <td>3.501557</td>\n",
       "    </tr>\n",
       "    <tr>\n",
       "      <th>2</th>\n",
       "      <td>Children</td>\n",
       "      <td>3.501557</td>\n",
       "    </tr>\n",
       "    <tr>\n",
       "      <th>3</th>\n",
       "      <td>Comedy</td>\n",
       "      <td>3.501557</td>\n",
       "    </tr>\n",
       "    <tr>\n",
       "      <th>4</th>\n",
       "      <td>Crime</td>\n",
       "      <td>3.501557</td>\n",
       "    </tr>\n",
       "    <tr>\n",
       "      <th>5</th>\n",
       "      <td>Documentary</td>\n",
       "      <td>3.501557</td>\n",
       "    </tr>\n",
       "    <tr>\n",
       "      <th>6</th>\n",
       "      <td>Drama</td>\n",
       "      <td>3.501557</td>\n",
       "    </tr>\n",
       "    <tr>\n",
       "      <th>7</th>\n",
       "      <td>Fantasy</td>\n",
       "      <td>3.501557</td>\n",
       "    </tr>\n",
       "    <tr>\n",
       "      <th>8</th>\n",
       "      <td>Film-Noir</td>\n",
       "      <td>3.501557</td>\n",
       "    </tr>\n",
       "    <tr>\n",
       "      <th>9</th>\n",
       "      <td>Horror</td>\n",
       "      <td>3.501557</td>\n",
       "    </tr>\n",
       "    <tr>\n",
       "      <th>10</th>\n",
       "      <td>IMAX</td>\n",
       "      <td>3.501557</td>\n",
       "    </tr>\n",
       "    <tr>\n",
       "      <th>11</th>\n",
       "      <td>Musical</td>\n",
       "      <td>3.501557</td>\n",
       "    </tr>\n",
       "    <tr>\n",
       "      <th>12</th>\n",
       "      <td>Mystery</td>\n",
       "      <td>3.501557</td>\n",
       "    </tr>\n",
       "    <tr>\n",
       "      <th>13</th>\n",
       "      <td>Romance</td>\n",
       "      <td>3.501557</td>\n",
       "    </tr>\n",
       "    <tr>\n",
       "      <th>14</th>\n",
       "      <td>Sci-Fi</td>\n",
       "      <td>3.501557</td>\n",
       "    </tr>\n",
       "    <tr>\n",
       "      <th>15</th>\n",
       "      <td>Thriller</td>\n",
       "      <td>3.501557</td>\n",
       "    </tr>\n",
       "    <tr>\n",
       "      <th>16</th>\n",
       "      <td>War</td>\n",
       "      <td>3.501557</td>\n",
       "    </tr>\n",
       "    <tr>\n",
       "      <th>17</th>\n",
       "      <td>Western</td>\n",
       "      <td>3.501557</td>\n",
       "    </tr>\n",
       "  </tbody>\n",
       "</table>\n",
       "</div>"
      ],
      "text/plain": [
       "          genre    rating\n",
       "0     Adventure  3.501557\n",
       "1     Animation  3.501557\n",
       "2      Children  3.501557\n",
       "3        Comedy  3.501557\n",
       "4         Crime  3.501557\n",
       "5   Documentary  3.501557\n",
       "6         Drama  3.501557\n",
       "7       Fantasy  3.501557\n",
       "8     Film-Noir  3.501557\n",
       "9        Horror  3.501557\n",
       "10         IMAX  3.501557\n",
       "11      Musical  3.501557\n",
       "12      Mystery  3.501557\n",
       "13      Romance  3.501557\n",
       "14       Sci-Fi  3.501557\n",
       "15     Thriller  3.501557\n",
       "16          War  3.501557\n",
       "17      Western  3.501557"
      ]
     },
     "execution_count": 175,
     "metadata": {},
     "output_type": "execute_result"
    }
   ],
   "source": [
    "genres_split = movies_df['genres'].str.get_dummies('|')\n",
    "\n",
    "movies_split = pd.concat([movies_df[['movieId', 'title']], genres_split], axis=1)\n",
    "movies_melted = pd.melt(movies_split, id_vars=['movieId', 'title'], value_vars=list(genres_split.columns)[2:], var_name='genre')\n",
    "merged_df = movies_melted.merge(ratings_df, on='movieId')\n",
    "genre_avg_ratings = merged_df.groupby('genre')['rating'].mean().reset_index().round(2)\n",
    "# min_ratting = merged_df.groupby('genre')['rating'].min().reset_index()\n",
    "# max_ratting = merged_df.groupby('genre')['rating'].max().reset_index()\n",
    "# genre_avg_ratings[\"Min_Ratings\"] = min_ratting['rating']\n",
    "# genre_avg_ratings[\"Max_Ratings\"] = max_ratting['rating']\n",
    "# genre_avg_ratings.to_excel(writer, sheet_name='Movies by Genres', index=False)\n",
    "genre_avg_ratings\n"
   ]
  },
  {
   "cell_type": "code",
   "execution_count": 127,
   "id": "48deb6a9",
   "metadata": {},
   "outputs": [],
   "source": [
    "# min_ratting = merged_df.groupby('genre')['rating'].min().reset_index()\n"
   ]
  },
  {
   "cell_type": "code",
   "execution_count": 130,
   "id": "dea3a6c0",
   "metadata": {},
   "outputs": [],
   "source": [
    "genre_avg_ratings[\"Min_Ratings\"] = min_ratting['rating']\n",
    "# "
   ]
  },
  {
   "cell_type": "code",
   "execution_count": null,
   "id": "a9ff0e21",
   "metadata": {},
   "outputs": [],
   "source": [
    "# genre_avg_ratings"
   ]
  },
  {
   "cell_type": "code",
   "execution_count": null,
   "id": "0dca9eb9",
   "metadata": {},
   "outputs": [],
   "source": []
  },
  {
   "cell_type": "code",
   "execution_count": null,
   "id": "cef4889d",
   "metadata": {},
   "outputs": [],
   "source": []
  },
  {
   "cell_type": "code",
   "execution_count": null,
   "id": "762d6d2e",
   "metadata": {},
   "outputs": [],
   "source": []
  }
 ],
 "metadata": {
  "kernelspec": {
   "display_name": "Python 3 (ipykernel)",
   "language": "python",
   "name": "python3"
  },
  "language_info": {
   "codemirror_mode": {
    "name": "ipython",
    "version": 3
   },
   "file_extension": ".py",
   "mimetype": "text/x-python",
   "name": "python",
   "nbconvert_exporter": "python",
   "pygments_lexer": "ipython3",
   "version": "3.8.10"
  }
 },
 "nbformat": 4,
 "nbformat_minor": 5
}
