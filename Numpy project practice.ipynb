{
 "cells": [
  {
   "cell_type": "code",
   "execution_count": 109,
   "id": "0b63d18f",
   "metadata": {},
   "outputs": [],
   "source": [
    "import numpy as np\n",
    "import pandas as pd"
   ]
  },
  {
   "cell_type": "code",
   "execution_count": 110,
   "id": "438545ba",
   "metadata": {},
   "outputs": [
    {
     "data": {
      "text/plain": [
       "Index(['Unnamed: 0', 'NAME OF THE STUDENT', 'UNIVERSITY', 'PROGRAM NAME',\n",
       "       'Specialisation', 'SEMESTER', 'Domain',\n",
       "       'GENERAL MANAGEMENT SCORE (OUT of 50)',\n",
       "       'Domain Specific SCORE (OUT 50)', 'TOTAL SCORE (OUT of 100)', 'RANK',\n",
       "       'PERCENTILE'],\n",
       "      dtype='object')"
      ]
     },
     "execution_count": 110,
     "metadata": {},
     "output_type": "execute_result"
    }
   ],
   "source": [
    "df = pd.read_csv(\"Private_data.csv\")\n",
    "df.columns"
   ]
  },
  {
   "cell_type": "markdown",
   "id": "5f835cd3",
   "metadata": {},
   "source": [
    "### Data Preparation:"
   ]
  },
  {
   "cell_type": "code",
   "execution_count": 111,
   "id": "02d11519",
   "metadata": {},
   "outputs": [
    {
     "name": "stdout",
     "output_type": "stream",
     "text": [
      "Camila Wood\n",
      "Emily Lee\n"
     ]
    }
   ],
   "source": [
    "#Create NumPy arrays to represent the quiz scores of each student.\n",
    "quizes_score = np.array(df[['GENERAL MANAGEMENT SCORE (OUT of 50)','Domain Specific SCORE (OUT 50)']])\n",
    "\n",
    "#Calculate the average score for each student.\n",
    "mean_score = np.mean(quizes_score, axis=1)\n",
    "\n",
    "#Identify the student with the highest and lowest average score.\n",
    "highest_avg = np.argmax(mean_score)\n",
    "lowest_avg = np.argmin(mean_score)\n",
    "df.iloc[highest_avg]\n",
    "print(df.iloc[highest_avg][\"NAME OF THE STUDENT\"])\n",
    "print(df.iloc[lowest_avg][\"NAME OF THE STUDENT\"])\n"
   ]
  },
  {
   "cell_type": "markdown",
   "id": "811370ce",
   "metadata": {},
   "source": [
    "### Data Filtering and Selection"
   ]
  },
  {
   "cell_type": "code",
   "execution_count": 123,
   "id": "639d274b",
   "metadata": {
    "scrolled": false
   },
   "outputs": [],
   "source": [
    "#Find the students who scored above a certain threshold (e.g., above 80%) in a specific quiz.\n",
    "gms = np.array(df['GENERAL MANAGEMENT SCORE (OUT of 50)'])\n",
    "dss = np.array(df['Domain Specific SCORE (OUT 50)'])\n",
    "threshold_percent = 80\n",
    "highest_percent_gms = np.max(gms)\n",
    "threshold_gms = (threshold_percent/100) * highest_percent\n",
    "above_threshold_students_gms = df[gms > threshold_gms]\n",
    "\n",
    "highest_percent_dss = np.max(dss)\n",
    "threshold_dss = (threshold_percent/100) * highest_percent_dss\n",
    "above_threshold_students_dss = df[dss > threshold_dss]\n",
    "\n",
    "# Extract and print the scores of the top-performing student in a particular quiz.\n",
    "mask1= (gms == highest_percent_gms)\n",
    "gms_top_performing_student = df[mask1]\n",
    "gms_top_performing_student\n",
    "\n",
    "mask2= (dss == highest_percent_dss)\n",
    "dss_top_performing_student = df[mask2]\n",
    "# dss_top_performing_student\n"
   ]
  },
  {
   "cell_type": "markdown",
   "id": "b62b7253",
   "metadata": {},
   "source": [
    "### Data Aggregation:"
   ]
  },
  {
   "cell_type": "code",
   "execution_count": 168,
   "id": "0bf38425",
   "metadata": {
    "scrolled": false
   },
   "outputs": [
    {
     "name": "stdout",
     "output_type": "stream",
     "text": [
      "Unnamed: 0                              75.000000\n",
      "GENERAL MANAGEMENT SCORE (OUT of 50)    37.993377\n",
      "Domain Specific SCORE (OUT 50)          33.635762\n",
      "TOTAL SCORE (OUT of 100)                71.629139\n",
      "RANK                                    76.000000\n",
      "PERCENTILE                               0.503311\n",
      "dtype: float64\n"
     ]
    },
    {
     "name": "stderr",
     "output_type": "stream",
     "text": [
      "/tmp/ipykernel_6839/2926432598.py:3: FutureWarning: The default value of numeric_only in DataFrameGroupBy.mean is deprecated. In a future version, numeric_only will default to False. Either specify numeric_only or select only columns which should be valid for the function.\n",
      "  class_avgs = df.groupby(\"Domain\").mean()\n",
      "/tmp/ipykernel_6839/2926432598.py:5: FutureWarning: The default value of numeric_only in DataFrame.mean is deprecated. In a future version, it will default to False. In addition, specifying 'numeric_only=None' is deprecated. Select only valid columns or specify the value of numeric_only to silence this warning.\n",
      "  overall_averages = df.mean()\n"
     ]
    },
    {
     "data": {
      "text/plain": [
       "GENERAL MANAGEMENT SCORE (OUT of 50)    Generic\n",
       "Domain Specific SCORE (OUT 50)          Generic\n",
       "dtype: object"
      ]
     },
     "execution_count": 168,
     "metadata": {},
     "output_type": "execute_result"
    }
   ],
   "source": [
    "#Calculate the overall class average for each quiz.\n",
    "quizes = ['GENERAL MANAGEMENT SCORE (OUT of 50)', 'Domain Specific SCORE (OUT 50)']\n",
    "class_avgs = df.groupby(\"Domain\").mean()\n",
    "# print(class_avgs)\n",
    "overall_averages = df.mean()\n",
    "overall_averages\n",
    "highest_average_quiz = overall_averages.idxmax()\n",
    "lowest_average_quiz = overall_averages.idxmin()\n",
    "print(overall_averages)\n",
    "class_avgs[quizes].idxmax()\n",
    "class_avgs[quizes].idxmin()\n"
   ]
  },
  {
   "cell_type": "code",
   "execution_count": null,
   "id": "a7c37259",
   "metadata": {},
   "outputs": [],
   "source": []
  },
  {
   "cell_type": "code",
   "execution_count": 131,
   "id": "be839940",
   "metadata": {},
   "outputs": [],
   "source": []
  },
  {
   "cell_type": "code",
   "execution_count": 143,
   "id": "44127829",
   "metadata": {},
   "outputs": [
    {
     "data": {
      "text/plain": [
       "Index(['Unnamed: 0', 'NAME OF THE STUDENT', 'UNIVERSITY', 'PROGRAM NAME',\n",
       "       'Specialisation', 'SEMESTER', 'Domain',\n",
       "       'GENERAL MANAGEMENT SCORE (OUT of 50)',\n",
       "       'Domain Specific SCORE (OUT 50)', 'TOTAL SCORE (OUT of 100)', 'RANK',\n",
       "       'PERCENTILE'],\n",
       "      dtype='object')"
      ]
     },
     "execution_count": 143,
     "metadata": {},
     "output_type": "execute_result"
    }
   ],
   "source": []
  },
  {
   "cell_type": "code",
   "execution_count": null,
   "id": "c895c50d",
   "metadata": {},
   "outputs": [],
   "source": []
  }
 ],
 "metadata": {
  "kernelspec": {
   "display_name": "Python 3 (ipykernel)",
   "language": "python",
   "name": "python3"
  },
  "language_info": {
   "codemirror_mode": {
    "name": "ipython",
    "version": 3
   },
   "file_extension": ".py",
   "mimetype": "text/x-python",
   "name": "python",
   "nbconvert_exporter": "python",
   "pygments_lexer": "ipython3",
   "version": "3.11.4"
  }
 },
 "nbformat": 4,
 "nbformat_minor": 5
}
